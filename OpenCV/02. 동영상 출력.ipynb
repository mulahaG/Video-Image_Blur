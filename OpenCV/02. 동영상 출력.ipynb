{
 "cells": [
  {
   "cell_type": "markdown",
   "id": "347ceb80",
   "metadata": {},
   "source": [
    "# 2. 동영상 출력"
   ]
  },
  {
   "cell_type": "markdown",
   "id": "aecaa0a5",
   "metadata": {},
   "source": [
    "# 동영상 파일 출력"
   ]
  },
  {
   "cell_type": "code",
   "execution_count": 2,
   "id": "88f498a6",
   "metadata": {},
   "outputs": [
    {
     "name": "stdout",
     "output_type": "stream",
     "text": [
      "더 이상 가져올 프레임이 없어요\n"
     ]
    }
   ],
   "source": [
    "import cv2\n",
    "cap=cv2.VideoCapture('video.mp4')\n",
    "\n",
    "while cap.isOpened(): # 동영상 파일이 올바로 열렸는지?\n",
    "    ret, frame = cap.read() # ret : 성공여부, frame : 받아온 이미지 (프레임)\n",
    "    if not ret:\n",
    "        print('더 이상 가져올 프레임이 없어요')\n",
    "        break\n",
    "        \n",
    "    cv2.imshow('video', frame)\n",
    "    \n",
    "    if cv2.waitKey(1) == ord('q'):\n",
    "        print('사용자 입력에 의해 종료합니다')\n",
    "        break\n",
    "cap.release() # 자원 해제\n",
    "cv2.destroyAllWindows() # 모든 창 닫기"
   ]
  },
  {
   "cell_type": "markdown",
   "id": "92a0097d",
   "metadata": {},
   "source": [
    "# 카메라 출력"
   ]
  },
  {
   "cell_type": "code",
   "execution_count": 2,
   "id": "19b7d7ca",
   "metadata": {},
   "outputs": [],
   "source": [
    "import cv2\n",
    "cap=cv2.VideoCapture(0) # 0번째 카메라 장치 (Device ID)\n",
    "\n",
    "if not cap.isOpened(): #카메라가 잘 열리지 않은 경우\n",
    "    exit() #프로그램 종료\n",
    "    \n",
    "while True:\n",
    "    ret, frame = cap.read()\n",
    "    if not ret:\n",
    "        break\n",
    "        \n",
    "    cv2.imshow('video', frame)\n",
    "    if cv2.waitKey(1)==ord('q'):\n",
    "        break\n",
    "\n",
    "cap.release()\n",
    "cv2.destroyAllWindows()"
   ]
  },
  {
   "cell_type": "markdown",
   "id": "523ea52f",
   "metadata": {},
   "source": [
    "# 동영상 변형(자르기)"
   ]
  },
  {
   "cell_type": "code",
   "execution_count": 7,
   "id": "5ea7f40b",
   "metadata": {},
   "outputs": [
    {
     "name": "stdout",
     "output_type": "stream",
     "text": [
      "더 이상 가져올 프레임이 없어요\n"
     ]
    }
   ],
   "source": [
    "import cv2\n",
    "cap=cv2.VideoCapture('video.mp4')\n",
    "\n",
    "while cap.isOpened(): # 동영상 파일이 올바로 열렸는지?\n",
    "    ret, frame = cap.read() # ret : 성공여부, frame : 받아온 이미지 (프레임)\n",
    "    if not ret:\n",
    "        print('더 이상 가져올 프레임이 없어요')\n",
    "        break\n",
    "        \n",
    "    cv2.imshow('video', frame)\n",
    "    \n",
    "    if cv2.waitKey(1) == ord('q'):\n",
    "        print('사용자 입력에 의해 종료합니다')\n",
    "        break\n",
    "cap.release() # 자원 해제\n",
    "cv2.destroyAllWindows() # 모든 창 닫기"
   ]
  },
  {
   "cell_type": "code",
   "execution_count": 9,
   "id": "1d9ab37c",
   "metadata": {},
   "outputs": [],
   "source": [
    "import cv2\n",
    "import time\n",
    "import random\n",
    "cap = cv2.VideoCapture('video.mp4')# 1.mp4\n",
    "\n",
    "w=int(cap.get(cv2.CAP_PROP_FRAME_WIDTH))\n",
    "h=int(cap.get(cv2.CAP_PROP_FRAME_HEIGHT))\n",
    "\n",
    "fourcc=cv2.VideoWriter_fourcc('m','p','4','v')\n",
    "out=cv2.VideoWriter('output_%s.mp4'%time.time(),fourcc, cap.get(cv2.CAP_PROP_FPS)/1,(w,h))\n",
    "\n",
    "# 1/2배속 동영상으로 저장할 경우 : cap.get(cv2.CAP_PROP_FPS) / 2 \n",
    "# VideoWriter 동영상 저장\n",
    "while cap.isOpened():\n",
    "    ret,img=cap.read()  # 한프레임씩 불러옴    \n",
    "    if not ret:\n",
    "        break\n",
    "    crop = img[200:400,150:350]\n",
    "    crop=cv2.GaussianBlur(crop,(9,9),sigmaX=10)#가우시안 블러 효과\n",
    "    img[200:400,150:350]=crop\n",
    "    cv2.imshow('gary',img)\n",
    "#     cv2.imshow('gary',crop)\n",
    "\n",
    "    if cv2.waitKey(1)==ord('q'):\n",
    "        break\n",
    "        \n",
    "out.release()\n",
    "cap.release()"
   ]
  },
  {
   "cell_type": "code",
   "execution_count": null,
   "id": "22aa2f67",
   "metadata": {},
   "outputs": [],
   "source": []
  }
 ],
 "metadata": {
  "kernelspec": {
   "display_name": "Python 3 (ipykernel)",
   "language": "python",
   "name": "python3"
  },
  "language_info": {
   "codemirror_mode": {
    "name": "ipython",
    "version": 3
   },
   "file_extension": ".py",
   "mimetype": "text/x-python",
   "name": "python",
   "nbconvert_exporter": "python",
   "pygments_lexer": "ipython3",
   "version": "3.9.12"
  }
 },
 "nbformat": 4,
 "nbformat_minor": 5
}
