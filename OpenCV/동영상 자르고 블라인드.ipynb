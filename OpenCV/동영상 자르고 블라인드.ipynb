{
 "cells": [
  {
   "cell_type": "markdown",
   "id": "54b0382e",
   "metadata": {},
   "source": [
    "# 동영상 자르고 블라인드(V)"
   ]
  },
  {
   "cell_type": "code",
   "execution_count": 3,
   "id": "6664df29",
   "metadata": {},
   "outputs": [],
   "source": [
    "import cv2\n",
    "import time\n",
    "import random\n",
    "cap = cv2.VideoCapture('video.mp4')# 1.mp4\n",
    "\n",
    "w=int(cap.get(cv2.CAP_PROP_FRAME_WIDTH))\n",
    "h=int(cap.get(cv2.CAP_PROP_FRAME_HEIGHT))\n",
    "\n",
    "fourcc=cv2.VideoWriter_fourcc('m','p','4','v')\n",
    "out=cv2.VideoWriter('output_%s.mp4'%time.time(),fourcc, cap.get(cv2.CAP_PROP_FPS)/1,(w,h))\n",
    "\n",
    "# 1/2배속 동영상으로 저장할 경우 : cap.get(cv2.CAP_PROP_FPS) / 2 \n",
    "# VideoWriter 동영상 저장\n",
    "while cap.isOpened():\n",
    "    ret,img=cap.read()  # 한프레임씩 불러옴    \n",
    "    if not ret:\n",
    "        break\n",
    "    crop = img[250:450, 50:250]  # 세로 기준 100:200까지, 가로 기준 200:400까지 자름\n",
    "    crop=cv2.GaussianBlur(crop,(9,9),sigmaX=10)#가우시안 블러 효과\n",
    "    img[250:450, 50:250]=crop\n",
    "    cv2.imshow('gary',img)\n",
    "#     cv2.imshow('gary',crop)\n",
    "\n",
    "    if cv2.waitKey(30)==ord('q'):\n",
    "        break\n",
    "        \n",
    "out.release()\n",
    "cap.release()"
   ]
  },
  {
   "cell_type": "markdown",
   "id": "ac5e7027",
   "metadata": {},
   "source": [
    "# 동영상 얼굴 자르고 블라인드"
   ]
  },
  {
   "cell_type": "code",
   "execution_count": 3,
   "id": "99f6f587",
   "metadata": {
    "scrolled": false
   },
   "outputs": [],
   "source": [
    "import cv2\n",
    "import mediapipe as mp\n",
    "\n",
    "#얼굴을 찾고, 찾은 얼굴에 표시를 해주기 위한 변수 정의\n",
    "mp_face_detection = mp.solutions.face_detection #얼굴 검출을 위한 face_detection 모듈을 사용\n",
    "mp_drawing = mp.solutions.drawing_utils #얼굴의 특징을 그리기 위한 drawing_utils 모듈을 사용\n",
    "\n",
    "# 동영상 파일 열기\n",
    "cap = cv2.VideoCapture('me.mp4')\n",
    "\n",
    "# model_selection = (0)카메라 2m이내의 거리 or (1)5m이내의 거리 \n",
    "# min_detection_confidence=얼굴일 신뢰도\n",
    "with mp_face_detection.FaceDetection(model_selection=1, min_detection_confidence=0.1) as face_detection:\n",
    "      while cap.isOpened(): #동영상 열림 확인\n",
    "        success, image = cap.read()\n",
    "        if not success:\n",
    "            break\n",
    "\n",
    "        # To improve performance, optionally mark the image as not writeable to\n",
    "        # pass by reference.\n",
    "        image.flags.writeable = False\n",
    "        image = cv2.cvtColor(image, cv2.COLOR_BGR2RGB)\n",
    "        results = face_detection.process(image)\n",
    "\n",
    "        # Draw the face detection annotations on the image.\n",
    "        image.flags.writeable = True\n",
    "        image = cv2.cvtColor(image, cv2.COLOR_RGB2BGR)\n",
    "        \n",
    "        # 검출된 사람 얼굴에 드로우\n",
    "        if results.detections:\n",
    "            for detection in results.detections:\n",
    "                \n",
    "                # 특정 위치 가져오기\n",
    "                face_box = detection.location_data.relative_bounding_box \n",
    "\n",
    "                \n",
    "                h, w , _ = image.shape #heught, width, channel\n",
    "\n",
    "                crop=image[int(face_box.ymin*h):int((face_box.ymin+face_box.height)*h),int(face_box.xmin*w):int((face_box.width+face_box.xmin)*w)]\n",
    "\n",
    "                #가우시안 블러 효과\n",
    "                crop=cv2.GaussianBlur(crop,(9,9),sigmaX=10)\n",
    "                crop=cv2.GaussianBlur(crop,(9,9),sigmaX=10)\n",
    "                crop=cv2.GaussianBlur(crop,(9,9),sigmaX=10)\n",
    "                crop=cv2.GaussianBlur(crop,(9,9),sigmaX=10)\n",
    "                crop=cv2.GaussianBlur(crop,(9,9),sigmaX=10)\n",
    "                crop=cv2.GaussianBlur(crop,(9,9),sigmaX=10)\n",
    "                crop=cv2.GaussianBlur(crop,(9,9),sigmaX=10)\n",
    "                crop=cv2.GaussianBlur(crop,(9,9),sigmaX=10)\n",
    "                crop=cv2.GaussianBlur(crop,(9,9),sigmaX=10)\n",
    "                crop=cv2.GaussianBlur(crop,(9,9),sigmaX=10)\n",
    "                \n",
    "                image[int(face_box.ymin*h):int((face_box.ymin+face_box.height)*h),int(face_box.xmin*w):int((face_box.width+face_box.xmin)*w)] =crop        \n",
    "                \n",
    "        # Flip the image horizontally for a selfie-view display.\n",
    "        cv2.imshow('MediaPipe Face Detection', image)\n",
    "        \n",
    "        if cv2.waitKey(30) == ord('q'):\n",
    "            break\n",
    "\n",
    "cap.release()\n",
    "cv2.destroyAllWindows()"
   ]
  }
 ],
 "metadata": {
  "kernelspec": {
   "display_name": "Python 3 (ipykernel)",
   "language": "python",
   "name": "python3"
  },
  "language_info": {
   "codemirror_mode": {
    "name": "ipython",
    "version": 3
   },
   "file_extension": ".py",
   "mimetype": "text/x-python",
   "name": "python",
   "nbconvert_exporter": "python",
   "pygments_lexer": "ipython3",
   "version": "3.9.12"
  }
 },
 "nbformat": 4,
 "nbformat_minor": 5
}
