{
 "cells": [
  {
   "cell_type": "markdown",
   "id": "b194c919",
   "metadata": {},
   "source": [
    "# 11. 이미지 변형 (흐림)"
   ]
  },
  {
   "cell_type": "markdown",
   "id": "f97cad65",
   "metadata": {},
   "source": [
    "## 가우시안 블러"
   ]
  },
  {
   "cell_type": "markdown",
   "id": "cf76214f",
   "metadata": {},
   "source": [
    "커널 사이즈 변화에 따른 흐림"
   ]
  },
  {
   "cell_type": "code",
   "execution_count": 3,
   "id": "a8b03447",
   "metadata": {},
   "outputs": [],
   "source": [
    "import cv2\n",
    "img=cv2.imread('img.jpg')\n",
    "\n",
    "#(3,3), (5,5), (7,7)\n",
    "kernel_3=cv2.GaussianBlur(img, (3,3),0)\n",
    "kernel_5=cv2.GaussianBlur(img, (5,5),0)\n",
    "kernel_7=cv2.GaussianBlur(img, (7,7),0)\n",
    "\n",
    "cv2.imshow('img',img)\n",
    "cv2.imshow('kernel_3',kernel_3)\n",
    "cv2.imshow('kernel_5',kernel_5)\n",
    "cv2.imshow('kernel_7',kernel_7)\n",
    "\n",
    "cv2.waitKey(0)\n",
    "cv2.destroyAllWindows()"
   ]
  },
  {
   "cell_type": "markdown",
   "id": "c39e160e",
   "metadata": {},
   "source": [
    "표준 편차 변화에 따른 흐림"
   ]
  },
  {
   "cell_type": "code",
   "execution_count": 3,
   "id": "4fe182b6",
   "metadata": {},
   "outputs": [],
   "source": [
    "import cv2\n",
    "img=cv2.imread('img.jpg')\n",
    "\n",
    "sigma_1=cv2.GaussianBlur(img, (0,0),1) # sigmaX - 가우시안 커널의 x 방향의 표준 편차\n",
    "sigma_2=cv2.GaussianBlur(img, (0,0),2)\n",
    "sigma_3=cv2.GaussianBlur(img, (0,0),3)\n",
    "\n",
    "cv2.imshow('img',img)\n",
    "cv2.imshow('sigma_1',sigma_1)\n",
    "cv2.imshow('sigma_2',sigma_2)\n",
    "cv2.imshow('sigma_3',sigma_3)\n",
    "\n",
    "cv2.waitKey(0)\n",
    "cv2.destroyAllWindows()"
   ]
  },
  {
   "cell_type": "markdown",
   "id": "06548c72",
   "metadata": {},
   "source": [
    "# 이미지 얼굴 인식"
   ]
  },
  {
   "cell_type": "code",
   "execution_count": 6,
   "id": "ba503e14",
   "metadata": {},
   "outputs": [
    {
     "ename": "AttributeError",
     "evalue": "'numpy.ndarray' object has no attribute 'isOpened'",
     "output_type": "error",
     "traceback": [
      "\u001b[1;31m---------------------------------------------------------------------------\u001b[0m",
      "\u001b[1;31mAttributeError\u001b[0m                            Traceback (most recent call last)",
      "Input \u001b[1;32mIn [6]\u001b[0m, in \u001b[0;36m<cell line: 13>\u001b[1;34m()\u001b[0m\n\u001b[0;32m     11\u001b[0m \u001b[38;5;66;03m# model_selection = (0)카메라 2m이내의 거리 or (1)5m이내의 거리 \u001b[39;00m\n\u001b[0;32m     12\u001b[0m \u001b[38;5;66;03m# min_detection_confidence=얼굴일 신뢰도\u001b[39;00m\n\u001b[0;32m     13\u001b[0m \u001b[38;5;28;01mwith\u001b[39;00m mp_face_detection\u001b[38;5;241m.\u001b[39mFaceDetection(model_selection\u001b[38;5;241m=\u001b[39m\u001b[38;5;241m8\u001b[39m, min_detection_confidence\u001b[38;5;241m=\u001b[39m\u001b[38;5;241m0.1\u001b[39m) \u001b[38;5;28;01mas\u001b[39;00m face_detection:\n\u001b[1;32m---> 14\u001b[0m       \u001b[38;5;28;01mwhile\u001b[39;00m \u001b[43mimg\u001b[49m\u001b[38;5;241;43m.\u001b[39;49m\u001b[43misOpened\u001b[49m(): \u001b[38;5;66;03m#동영상 열림 확인\u001b[39;00m\n\u001b[0;32m     15\u001b[0m         success, image \u001b[38;5;241m=\u001b[39m img\u001b[38;5;241m.\u001b[39mread()\n\u001b[0;32m     16\u001b[0m         \u001b[38;5;28;01mif\u001b[39;00m \u001b[38;5;129;01mnot\u001b[39;00m success:\n",
      "\u001b[1;31mAttributeError\u001b[0m: 'numpy.ndarray' object has no attribute 'isOpened'"
     ]
    }
   ],
   "source": [
    "import cv2\n",
    "import mediapipe as mp\n",
    "\n",
    "#얼굴을 찾고, 찾은 얼굴에 표시를 해주기 위한 변수 정의\n",
    "mp_face_detection = mp.solutions.face_detection #얼굴 검출을 위한 face_detection 모듈을 사용\n",
    "mp_drawing = mp.solutions.drawing_utils #얼굴의 특징을 그리기 위한 drawing_utils 모듈을 사용\n",
    "\n",
    "# 이미지 파일 열기\n",
    "img=cv2.imread('people.jpg')\n",
    "\n",
    "# model_selection = (0)카메라 2m이내의 거리 or (1)5m이내의 거리 \n",
    "# min_detection_confidence=얼굴일 신뢰도\n",
    "with mp_face_detection.FaceDetection(model_selection=8, min_detection_confidence=0.1) as face_detection:\n",
    "      while img.isOpened(): #동영상 열림 확인\n",
    "        success, image = img.read()\n",
    "        if not success:\n",
    "            break\n",
    "\n",
    "        # To improve performance, optionally mark the image as not writeable to\n",
    "        # pass by reference.\n",
    "        image.flags.writeable = False\n",
    "        image = cv2.cvtColor(image, cv2.COLOR_BGR2RGB)\n",
    "        results = face_detection.process(image)\n",
    "\n",
    "        # Draw the face detection annotations on the image.\n",
    "        image.flags.writeable = True\n",
    "        image = cv2.cvtColor(image, cv2.COLOR_RGB2BGR)\n",
    "        \n",
    "        # 검출된 사람 얼굴에 드로우\n",
    "        if results.detections:\n",
    "            for detection in results.detections:\n",
    "                # 6개의 얼굴 특징 : 우눈, 좌눈, 코끝, 입중심, 우귀, 좌귀 \n",
    "                mp_drawing.draw_detection(image,detection)\n",
    "                print(detection)\n",
    "                \n",
    "                # 특정 위치 가져오기\n",
    "                keypoints = detection.location_data.relative_keypoints\n",
    "                relative_bounding_box = detection.location_data.relative_bounding_box \n",
    "#                 nose_tip = keypoints[2] # 코끝\n",
    "\n",
    "                \n",
    "                h, w , _ = image.shape #heught, width, channel\n",
    "#               nose_tip = (int(nose_tip.x * w), int(nose_tip.y * h))\n",
    "                relative_bounding_box\n",
    "\n",
    "                # 코 중심으로 모자이크\n",
    "                # cv2.circle(image, nose_tip,200, (0,0,0), 1, cv2.LINE_AA)\n",
    "                \n",
    "        # Flip the image horizontally for a selfie-view display.\n",
    "        cv2.imshow('MediaPipe Face Detection', cv2.resize(image, None, fx=0.5, fy=0.5))\n",
    "        \n",
    "        if cv2.waitKey(1) == ord('q'):\n",
    "            break\n",
    "\n",
    "img.release()\n",
    "cv2.destroyAllWindows()"
   ]
  }
 ],
 "metadata": {
  "kernelspec": {
   "display_name": "Python 3 (ipykernel)",
   "language": "python",
   "name": "python3"
  },
  "language_info": {
   "codemirror_mode": {
    "name": "ipython",
    "version": 3
   },
   "file_extension": ".py",
   "mimetype": "text/x-python",
   "name": "python",
   "nbconvert_exporter": "python",
   "pygments_lexer": "ipython3",
   "version": "3.9.12"
  }
 },
 "nbformat": 4,
 "nbformat_minor": 5
}
