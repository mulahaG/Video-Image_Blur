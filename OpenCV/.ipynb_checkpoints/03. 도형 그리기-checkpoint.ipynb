{
 "cells": [
  {
   "cell_type": "markdown",
   "id": "e2090310",
   "metadata": {},
   "source": [
    "# 03. 도형 그리기"
   ]
  },
  {
   "cell_type": "markdown",
   "id": "19449251",
   "metadata": {},
   "source": [
    "# 빈 스케치북 만들기"
   ]
  },
  {
   "cell_type": "code",
   "execution_count": null,
   "id": "051e2b19",
   "metadata": {},
   "outputs": [],
   "source": [
    "import cv2\n",
    "import numpy as np\n",
    "# 세로 480 x 가로 640, 3Channel (RGB)에 해당하는 스케치북 만들기\n",
    "img=np.zeros((480,640,3),dtype=np.uint8)\n",
    "print(img)\n",
    "# img[:]=(255,225,225) # 전체 공간을 흰 색으로 채우기\n",
    "# print(img)\n",
    "cv2.imshow('img', img)\n",
    "cv2.waitKey(0)\n",
    "cv2.destroyAllWindows()"
   ]
  },
  {
   "cell_type": "markdown",
   "id": "ef08329f",
   "metadata": {},
   "source": [
    "# 일부 영역 색칠"
   ]
  },
  {
   "cell_type": "code",
   "execution_count": 11,
   "id": "6d555187",
   "metadata": {},
   "outputs": [],
   "source": [
    "import cv2\n",
    "import numpy as np\n",
    "\n",
    "img=np.zeros((480,640,3),dtype=np.uint8)\n",
    "img[100:200, 200:300]=(255, 255, 255)\n",
    "# [세로영역, 가로영역]\n",
    "\n",
    "cv2.imshow('img', img)\n",
    "cv2.waitKey(0)\n",
    "cv2.destroyAllWindows()"
   ]
  },
  {
   "cell_type": "markdown",
   "id": "2259c9b9",
   "metadata": {},
   "source": [
    "## 직선\n",
    "직선의 종류 (line type)\n",
    "\n",
    "1. cv2.LINE_4 : 상하좌우 4방향으로 연결된 선\n",
    "2. cv2.LINE_8 : 대각선을 포함한 8방향으로 연결된 선(기본값)\n",
    "3. cd2.LINE_AA : 부드러운 선 (anti-aliasing)"
   ]
  },
  {
   "cell_type": "code",
   "execution_count": 20,
   "id": "968e841d",
   "metadata": {},
   "outputs": [],
   "source": [
    "import cv2\n",
    "import numpy as np\n",
    "\n",
    "img=np.zeros((480,640,3),dtype=np.uint8)\n",
    "\n",
    "COLOR = (0,255,255) # BGR : YELLOW, 색깔\n",
    "THICKNESS = 3 # 두께\n",
    "\n",
    "cv2.line(img, (50,100),(400,50),COLOR, THICKNESS,cv2.LINE_8)\n",
    "# 그릴 위치, 시작점, 끝점, 색깔, 두깨, 선 종류\n",
    "cv2.line(img, (50,200),(400,150),COLOR, THICKNESS,cv2.LINE_4)\n",
    "cv2.line(img, (50,300),(400,250),COLOR, THICKNESS,cv2.LINE_AA)\n",
    "\n",
    "cv2.imshow('img', img)\n",
    "cv2.waitKey(0)\n",
    "cv2.destroyAllWindows()"
   ]
  },
  {
   "cell_type": "markdown",
   "id": "d9dbb11a",
   "metadata": {},
   "source": [
    "## 원"
   ]
  },
  {
   "cell_type": "code",
   "execution_count": 30,
   "id": "643f2e84",
   "metadata": {},
   "outputs": [],
   "source": [
    "import cv2\n",
    "import numpy as np\n",
    "\n",
    "img=np.zeros((480,640,3),dtype=np.uint8)\n",
    "\n",
    "COLOR = (0,255,255) # BGR : YELLOW, 색깔\n",
    "RADIUS = 50 # 반지름\n",
    "THICKNESS = 3 # 두께\n",
    "\n",
    "cv2.circle(img, (200, 100), RADIUS, COLOR, THICKNESS, cv2.LINE_AA)\n",
    "# 그릴 위치, 원의 중심점, 반지름, 색깔, 두깨, 선 종류\n",
    "cv2.circle(img, (400, 100), RADIUS, COLOR, cv2.FILLED,cv2.LINE_AA)\n",
    "\n",
    "cv2.imshow('img', img)\n",
    "cv2.waitKey(0)\n",
    "cv2.destroyAllWindows()"
   ]
  },
  {
   "cell_type": "markdown",
   "id": "af0643ad",
   "metadata": {},
   "source": [
    "## 사각형"
   ]
  },
  {
   "cell_type": "code",
   "execution_count": 33,
   "id": "07a244e2",
   "metadata": {},
   "outputs": [],
   "source": [
    "import cv2\n",
    "import numpy as np\n",
    "\n",
    "img=np.zeros((480,640,3),dtype=np.uint8)\n",
    "\n",
    "COLOR = (0,255,0) # BGR : 초록\n",
    "THICKNESS = 3 # 두께\n",
    "\n",
    "cv2.rectangle(img, (100, 100), (200, 200), COLOR, THICKNESS) # 속이 빈 사각형\n",
    "# 그릴 위치, 왼쪽 위 좌표, 오른쪽 아래좌표, 색깔, 두깨\n",
    "cv2.rectangle(img, (200, 100), (300, 300), COLOR, cv2.FILLED) # 속이 빈 사각형\n",
    "\n",
    "cv2.imshow('img', img)\n",
    "cv2.waitKey(0)\n",
    "cv2.destroyAllWindows()"
   ]
  },
  {
   "cell_type": "code",
   "execution_count": null,
   "id": "5e41262e",
   "metadata": {},
   "outputs": [],
   "source": []
  },
  {
   "cell_type": "code",
   "execution_count": null,
   "id": "4866afb1",
   "metadata": {},
   "outputs": [],
   "source": []
  }
 ],
 "metadata": {
  "kernelspec": {
   "display_name": "Python 3 (ipykernel)",
   "language": "python",
   "name": "python3"
  },
  "language_info": {
   "codemirror_mode": {
    "name": "ipython",
    "version": 3
   },
   "file_extension": ".py",
   "mimetype": "text/x-python",
   "name": "python",
   "nbconvert_exporter": "python",
   "pygments_lexer": "ipython3",
   "version": "3.9.12"
  }
 },
 "nbformat": 4,
 "nbformat_minor": 5
}
