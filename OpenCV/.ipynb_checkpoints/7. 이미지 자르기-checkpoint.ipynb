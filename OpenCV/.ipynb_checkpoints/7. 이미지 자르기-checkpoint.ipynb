{
 "cells": [
  {
   "cell_type": "markdown",
   "id": "f6b83aba",
   "metadata": {},
   "source": [
    "# 7. 이미지 자르기"
   ]
  },
  {
   "cell_type": "code",
   "execution_count": 3,
   "id": "7f440e9f",
   "metadata": {},
   "outputs": [],
   "source": [
    "import cv2\n",
    "img = cv2.imread('img.jpg')\n",
    "crop = img[100:200,200:400]  # 세로 기준 100:200까지, 가로 기준 200:400까지 자름\n",
    "\n",
    "cv2.imshow('img',img) # 원본 이미지\n",
    "cv2.imshow('crop',crop) # 잘린 이미지\n",
    "cv2.waitKey(0)\n",
    "cv2.destroyAllWindows()"
   ]
  },
  {
   "cell_type": "code",
   "execution_count": 5,
   "id": "2adf936b",
   "metadata": {},
   "outputs": [],
   "source": [
    "import cv2\n",
    "img = cv2.imread('img.jpg')\n",
    "\n",
    "crop = img[100:200,200:400]  # 세로 기준 100:200까지, 가로 기준 200:400까지 자름\n",
    "img[100:200, 400:600]=crop\n",
    "\n",
    "cv2.imshow('img',img) # 원본 이미지\n",
    "cv2.waitKey(0)\n",
    "cv2.destroyAllWindows()"
   ]
  }
 ],
 "metadata": {
  "kernelspec": {
   "display_name": "Python 3 (ipykernel)",
   "language": "python",
   "name": "python3"
  },
  "language_info": {
   "codemirror_mode": {
    "name": "ipython",
    "version": 3
   },
   "file_extension": ".py",
   "mimetype": "text/x-python",
   "name": "python",
   "nbconvert_exporter": "python",
   "pygments_lexer": "ipython3",
   "version": "3.9.12"
  }
 },
 "nbformat": 4,
 "nbformat_minor": 5
}
