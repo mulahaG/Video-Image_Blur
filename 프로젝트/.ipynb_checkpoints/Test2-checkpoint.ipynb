{
 "cells": [
  {
   "cell_type": "code",
   "execution_count": 9,
   "id": "1af96083",
   "metadata": {},
   "outputs": [],
   "source": [
    "import cv2\n",
    "\n",
    "img = cv2.imread('img.jpg')\n",
    "\n",
    "crop = img[100:200,200:400]  # 세로 기준 100:200까지, 가로 기준 200:400까지 자름\n",
    "crop=cv2.GaussianBlur(crop,(9,9),sigmaX=10)#가우시안 블러 효과\n",
    "img[100:200, 200:400]=crop\n",
    "\n",
    "\n",
    "\n",
    "cv2.imshow('img',img) # 원본 이미지\n",
    "cv2.waitKey(0)\n",
    "cv2.destroyAllWindows()"
   ]
  },
  {
   "cell_type": "code",
   "execution_count": 17,
   "id": "2f241b43",
   "metadata": {},
   "outputs": [],
   "source": [
    "import cv2\n",
    "import time\n",
    "import random\n",
    "cap = cv2.VideoCapture('video.mp4')# 1.mp4\n",
    "\n",
    "w=int(cap.get(cv2.CAP_PROP_FRAME_WIDTH))\n",
    "h=int(cap.get(cv2.CAP_PROP_FRAME_HEIGHT))\n",
    "\n",
    "fourcc=cv2.VideoWriter_fourcc('m','p','4','v')\n",
    "out=cv2.VideoWriter('output_%s.mp4'%time.time(),fourcc, cap.get(cv2.CAP_PROP_FPS)/1,(w,h))\n",
    "\n",
    "# 1/2배속 동영상으로 저장할 경우 : cap.get(cv2.CAP_PROP_FPS) / 2 \n",
    "# VideoWriter 동영상 저장\n",
    "while cap.isOpened():\n",
    "    ret,img=cap.read()  # 한프레임씩 불러옴    \n",
    "    if not ret:\n",
    "        break\n",
    "    \n",
    "#     if random.random()>0.9:  # 랜덤으로 10%의 프레임만 랜덤으로 흔들리게 한다\n",
    "#         theta=random.randint(-3,3)  # 랜덤으로 회전하는 효과 (-3도 ~ +3도, 흔들리는 효과를 내기 위해서)\n",
    "        # 랜덤으로 상하좌우 흔들리는 효과 (상,하,좌,우 각각 10, 흔들리는 효과를 내기 위해\n",
    "#         x,y=random.randint(-10,10), random.randint(-10,10)\n",
    "        \n",
    "#         M=cv2.getRotationMatrix2D(center=(w//2,h//2),angle=theta,scale=1.0)\n",
    "#         M[0,2]+=x\n",
    "#         M[1,2]+=y\n",
    "#         img=cv2.warpAffine(img, M=M, dsize=(w,h))\n",
    "#         img=cv2.GaussianBlur(img,ksize=(9,9),sigmaX=0)\n",
    "#         img=cv2.warpAffine(img, M=M, dsize=(w,h))\n",
    "        \n",
    "    img=cv2.GaussianBlur(img,(9,9),sigmaX=10)#가우시안 블러 효과  \n",
    "    \n",
    "    # sigma_S, sigma_r, shade_factor 범위 참고    \n",
    "    '''\n",
    "    sigma_s: Range between 0 to 200. Default 60.    \n",
    "    sigma_r: Range between 0 to 1. Default 0.07.    \n",
    "    shade_factor: Range between 0 to 0.1. Default 0.02.    \n",
    "    '''\n",
    "#     gray,color=cv2.pencilSketch(img,sigma_s=60,sigma_r=0.05,shade_factor=0.015)# 연필효과        \n",
    "    \n",
    "    cv2.imshow('gary',img)\n",
    "    \n",
    "#     out.write(cv2.cvtColor(gray,cv2.COLOR_GRAY2BGR))\n",
    "    if cv2.waitKey(1)==ord('q'):\n",
    "        break\n",
    "        \n",
    "out.release()\n",
    "cap.release()\n",
    "cv2.destroyAllWindows()"
   ]
  }
 ],
 "metadata": {
  "kernelspec": {
   "display_name": "Python 3 (ipykernel)",
   "language": "python",
   "name": "python3"
  },
  "language_info": {
   "codemirror_mode": {
    "name": "ipython",
    "version": 3
   },
   "file_extension": ".py",
   "mimetype": "text/x-python",
   "name": "python",
   "nbconvert_exporter": "python",
   "pygments_lexer": "ipython3",
   "version": "3.9.12"
  }
 },
 "nbformat": 4,
 "nbformat_minor": 5
}
