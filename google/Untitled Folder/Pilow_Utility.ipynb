{
 "cells": [
  {
   "cell_type": "code",
   "execution_count": 1,
   "id": "d2abfcd6",
   "metadata": {},
   "outputs": [],
   "source": [
    "from PIL import Image, ImageDraw, Image, ImageFont, ImageFilter\n",
    "\n",
    "def draw_borders(pillow_image, bounding, color, image_size, caption='', confidence_score=0):\n",
    "    width, height = image_size\n",
    "    draw = ImageDraw.Draw(pillow_image)\n",
    "    draw.polygon([\n",
    "        bounding.normalized_vertices[0].x * width,\n",
    "        bounding.normalized_vertices[0].y * height,\n",
    "        bounding.normalized_vertices[1].x * width,\n",
    "        bounding.normalized_vertices[1].y * height,\n",
    "        bounding.normalized_vertices[2].x * width,\n",
    "        bounding.normalized_vertices[2].y * height,\n",
    "        bounding.normalized_vertices[3].x * width,\n",
    "        bounding.normalized_vertices[3].y * height], fill=None, outline=color)\n",
    "\n",
    "    font_size = width * height // 22000 if width * height > 400000 else 12\n",
    "\n",
    "    font = ImageFont.truetype(r'C:\\Users\\CJM\\AppData\\Local\\Microsoft\\Windows\\Fonts\\KoPube돋움.ttf', 12)\n",
    "\n",
    "    draw.text((bounding.normalized_vertices[0].x * width,\n",
    "                bounding.normalized_vertices[0].y * height), font=font, text=caption, fill=color)\n",
    "\n",
    "    # draw.text((bounding.normalized_vertices[0].x * width, bounding.normalized_vertices[0].y * height + 20),\n",
    "    #           font=font, text='Confidence score: {0:.2f}%'\n",
    "    #                           ''.format(confidence_score), fill=color)\n",
    "\n",
    "    return pillow_image"
   ]
  }
 ],
 "metadata": {
  "kernelspec": {
   "display_name": "Python 3 (ipykernel)",
   "language": "python",
   "name": "python3"
  },
  "language_info": {
   "codemirror_mode": {
    "name": "ipython",
    "version": 3
   },
   "file_extension": ".py",
   "mimetype": "text/x-python",
   "name": "python",
   "nbconvert_exporter": "python",
   "pygments_lexer": "ipython3",
   "version": "3.9.12"
  }
 },
 "nbformat": 4,
 "nbformat_minor": 5
}
